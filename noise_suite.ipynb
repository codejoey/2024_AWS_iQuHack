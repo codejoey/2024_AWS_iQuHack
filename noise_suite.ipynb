{
 "cells": [
  {
   "cell_type": "code",
   "execution_count": 3,
   "metadata": {},
   "outputs": [],
   "source": [
    "# Use Braket SDK Cost Tracking to estimate the cost to run this example\n",
    "from braket.tracking import Tracker\n",
    "t = Tracker().start()"
   ]
  },
  {
   "cell_type": "code",
   "execution_count": 4,
   "metadata": {},
   "outputs": [],
   "source": [
    "from braket.aws import AwsDevice\n",
    "from braket.circuits import Circuit, gates, noises, observables\n",
    "from braket.devices import LocalSimulator\n",
    "from braket.parametric import FreeParameter\n",
    "import numpy as np\n",
    "from scipy.stats import unitary_group"
   ]
  },
  {
   "cell_type": "markdown",
   "metadata": {},
   "source": [
    "Make Circuit"
   ]
  },
  {
   "cell_type": "code",
   "execution_count": 45,
   "metadata": {},
   "outputs": [],
   "source": [
    "# build a simple circuit\n",
    "circ = Circuit().h(0).cnot(0,1)"
   ]
  },
  {
   "cell_type": "markdown",
   "metadata": {},
   "source": [
    "Noise Testing Suite"
   ]
  },
  {
   "cell_type": "code",
   "execution_count": 46,
   "metadata": {},
   "outputs": [
    {
     "data": {
      "text/plain": [
       "Circuit('instructions': [Instruction('operator': H('qubit_count': 1), 'target': QubitSet([Qubit(0)]), 'control': QubitSet([]), 'control_state': (), 'power': 1), Instruction('operator': BitFlip(0.1), 'target': QubitSet([Qubit(0)]), 'control': QubitSet([]), 'control_state': (), 'power': 1), Instruction('operator': CNot('qubit_count': 2), 'target': QubitSet([Qubit(0), Qubit(1)]), 'control': QubitSet([]), 'control_state': (), 'power': 1), Instruction('operator': BitFlip(0.1), 'target': QubitSet([Qubit(0)]), 'control': QubitSet([]), 'control_state': (), 'power': 1), Instruction('operator': BitFlip(0.1), 'target': QubitSet([Qubit(1)]), 'control': QubitSet([]), 'control_state': (), 'power': 1)])"
      ]
     },
     "execution_count": 46,
     "metadata": {},
     "output_type": "execute_result"
    }
   ],
   "source": [
    "# define a noise channel\n",
    "noise = noises.BitFlip(probability=0.1)\n",
    "\n",
    "# add noise to every gate in the circuit\n",
    "circ.apply_gate_noise(noise)"
   ]
  },
  {
   "cell_type": "markdown",
   "metadata": {},
   "source": [
    "Run noise test"
   ]
  },
  {
   "cell_type": "code",
   "execution_count": 47,
   "metadata": {},
   "outputs": [
    {
     "name": "stdout",
     "output_type": "stream",
     "text": [
      "measurement results: Counter({'11': 401, '00': 394, '10': 103, '01': 102})\n"
     ]
    }
   ],
   "source": [
    "#noise add\n",
    "\n",
    "# select the local noise simulator\n",
    "device = LocalSimulator('braket_dm')\n",
    "\n",
    "# run the circuit on the local simulator\n",
    "task = device.run(circ, shots = 1000)\n",
    "\n",
    "# visualize the results\n",
    "result = task.result()\n",
    "measurement = result.measurement_counts\n",
    "print('measurement results:', measurement)"
   ]
  },
  {
   "cell_type": "code",
   "execution_count": 48,
   "metadata": {},
   "outputs": [
    {
     "name": "stdout",
     "output_type": "stream",
     "text": [
      "GateModelQuantumTaskResult(task_metadata=TaskMetadata(braketSchemaHeader=BraketSchemaHeader(name='braket.task_result.task_metadata', version='1'), id='70daf071-a27e-486a-96a8-8adfc86c2d75', shots=1000, deviceId='braket_dm', deviceParameters=None, createdAt=None, endedAt=None, status=None, failureReason=None), additional_metadata=AdditionalMetadata(action=Program(braketSchemaHeader=BraketSchemaHeader(name='braket.ir.openqasm.program', version='1'), source='OPENQASM 3.0;\\nbit[2] b;\\nqubit[2] q;\\nh q[0];\\n#pragma braket noise bit_flip(0.1) q[0]\\ncnot q[0], q[1];\\n#pragma braket noise bit_flip(0.1) q[0]\\n#pragma braket noise bit_flip(0.1) q[1]\\nb[0] = measure q[0];\\nb[1] = measure q[1];', inputs={}), dwaveMetadata=None, ionqMetadata=None, rigettiMetadata=None, oqcMetadata=None, xanaduMetadata=None, queraMetadata=None, simulatorMetadata=None), result_types=[], values=[], measurements=array([[1, 1],\n",
      "       [1, 1],\n",
      "       [1, 1],\n",
      "       ...,\n",
      "       [0, 0],\n",
      "       [0, 0],\n",
      "       [0, 0]]), measured_qubits=[0, 1], measurement_counts=Counter({'11': 401, '00': 394, '10': 103, '01': 102}), measurement_probabilities={'11': 0.401, '01': 0.102, '00': 0.394, '10': 0.103}, measurements_copied_from_device=True, measurement_counts_copied_from_device=False, measurement_probabilities_copied_from_device=False, _result_types_indices={})\n"
     ]
    }
   ],
   "source": [
    "print(result)"
   ]
  },
  {
   "cell_type": "markdown",
   "metadata": {},
   "source": [
    "Questions:\n",
    "1. what add measurement results mean?\n",
    "2. "
   ]
  },
  {
   "cell_type": "code",
   "execution_count": 38,
   "metadata": {},
   "outputs": [],
   "source": [
    "def add_noise_suite(circ, noise_dict, measurements = {}):\n",
    "    # # define a noise channel\n",
    "    # noise = noises.BitFlip(probability=0.1)\n",
    "\n",
    "    # # define a noise channel\n",
    "    # noise = noises.Depolarizing(probability=0.1)\n",
    "    \n",
    "    for key in noise_dict.keys():\n",
    "        dynamic_noise_func = getattr(noises, key)\n",
    "        noise = dynamic_noise_func(noise_dict[key])\n",
    "\n",
    "        # add noise to every gate in the circuit\n",
    "        circ.apply_gate_noise(noise)\n",
    "        measurement = noise_run(circ)\n",
    "        measurements[key]=measurement\n",
    "\n",
    "    return measurements\n",
    "\n",
    "\n",
    "def noise_run(circ):\n",
    "    # select the local noise simulator\n",
    "    device = LocalSimulator('braket_dm')\n",
    "\n",
    "    # run the circuit on the local simulator\n",
    "    task = device.run(circ, shots = 1000)\n",
    "\n",
    "    # visualize the results\n",
    "    result = task.result()\n",
    "    measurement = result.measurement_counts\n",
    "    return measurement\n",
    "\n"
   ]
  },
  {
   "cell_type": "code",
   "execution_count": 44,
   "metadata": {},
   "outputs": [
    {
     "name": "stdout",
     "output_type": "stream",
     "text": [
      "('BitFlip', Counter({'11': 441, '00': 396, '01': 82, '10': 81}))\n",
      "('PhaseFlip', Counter({'11': 425, '00': 399, '01': 88, '10': 88}))\n",
      "('Depolarizing', Counter({'00': 369, '11': 364, '10': 136, '01': 131}))\n",
      "('AmplitudeDamping', Counter({'00': 407, '11': 282, '01': 164, '10': 147}))\n",
      "('PhaseDamping', Counter({'00': 393, '11': 293, '10': 178, '01': 136}))\n"
     ]
    }
   ],
   "source": [
    "# build a simple circuit\n",
    "circ = Circuit().h(0).cnot(0,1)\n",
    "\n",
    "noise_dict = {'BitFlip': 0.1, 'PhaseFlip': 0.1, 'Depolarizing': 0.1, 'AmplitudeDamping':0.1}\n",
    "noise_dict = {'BitFlip': 0.1, 'PhaseFlip': 0.1, 'Depolarizing': 0.1, 'AmplitudeDamping':0.1, 'PhaseDamping':0.1}\n",
    "#noise_dict = {'BitFlip': 0.1, 'PhaseFlip': 0.1, 'Depolarizing': 0.1, 'AmplitudeDamping':0.1, 'GeneralizedAmplitudeDamping': [0.1, 0.1], 'PhaseDamping':0.1, 'PauliChannel': [0.1, 0.1, 0.1]}\n",
    "\n",
    "#using noise suite\n",
    "measurements = add_noise_suite(circ, noise_dict)\n",
    "\n",
    "for item in measurements.items():\n",
    "    print(item)"
   ]
  },
  {
   "cell_type": "code",
   "execution_count": 43,
   "metadata": {},
   "outputs": [
    {
     "name": "stdout",
     "output_type": "stream",
     "text": [
      "Depolarizing(0.1)\n"
     ]
    }
   ],
   "source": [
    "dynamic_func = getattr(noises, 'Depolarizing')\n",
    "print(dynamic_func(0.1))"
   ]
  },
  {
   "cell_type": "code",
   "execution_count": 32,
   "metadata": {},
   "outputs": [
    {
     "name": "stdout",
     "output_type": "stream",
     "text": [
      "Depolarizing(0.1)\n"
     ]
    }
   ],
   "source": [
    "noise = noises.Depolarizing(probability=0.1)\n",
    "print(noise)"
   ]
  },
  {
   "cell_type": "code",
   "execution_count": null,
   "metadata": {},
   "outputs": [],
   "source": []
  }
 ],
 "metadata": {
  "kernelspec": {
   "display_name": "iquhack",
   "language": "python",
   "name": "python3"
  },
  "language_info": {
   "codemirror_mode": {
    "name": "ipython",
    "version": 3
   },
   "file_extension": ".py",
   "mimetype": "text/x-python",
   "name": "python",
   "nbconvert_exporter": "python",
   "pygments_lexer": "ipython3",
   "version": "3.9.18"
  }
 },
 "nbformat": 4,
 "nbformat_minor": 2
}
