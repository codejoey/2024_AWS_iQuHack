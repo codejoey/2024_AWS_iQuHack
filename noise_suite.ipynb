{
 "cells": [
  {
   "cell_type": "code",
   "execution_count": 1,
   "metadata": {},
   "outputs": [],
   "source": [
    "# Use Braket SDK Cost Tracking to estimate the cost to run this example\n",
    "from braket.tracking import Tracker\n",
    "t = Tracker().start()"
   ]
  },
  {
   "cell_type": "code",
   "execution_count": 2,
   "metadata": {},
   "outputs": [],
   "source": [
    "# general imports\n",
    "import numpy as np\n",
    "import matplotlib.pyplot as plt\n",
    "# magic word for producing visualizations in notebook\n",
    "%matplotlib inline\n",
    "import string\n",
    "import time\n",
    "\n",
    "from braket.aws import AwsDevice, AwsQuantumTask\n",
    "from braket.circuits import Circuit, gates, noises, observables, Gate\n",
    "from braket.devices import LocalSimulator\n",
    "from braket.parametric import FreeParameter\n",
    "import numpy as np\n",
    "from scipy.stats import unitary_group"
   ]
  },
  {
   "cell_type": "markdown",
   "metadata": {},
   "source": [
    "Make Circuit"
   ]
  },
  {
   "cell_type": "code",
   "execution_count": 4,
   "metadata": {},
   "outputs": [
    {
     "name": "stdout",
     "output_type": "stream",
     "text": [
      "measurement results: Counter({'00': 424, '11': 398, '01': 96, '10': 82})\n",
      "result:  GateModelQuantumTaskResult(task_metadata=TaskMetadata(braketSchemaHeader=BraketSchemaHeader(name='braket.task_result.task_metadata', version='1'), id='e1e9e8f2-3b21-42d9-80e9-7da2671cc376', shots=1000, deviceId='braket_dm', deviceParameters=None, createdAt=None, endedAt=None, status=None, failureReason=None), additional_metadata=AdditionalMetadata(action=Program(braketSchemaHeader=BraketSchemaHeader(name='braket.ir.openqasm.program', version='1'), source='OPENQASM 3.0;\\nbit[2] b;\\nqubit[2] q;\\nh q[0];\\n#pragma braket noise bit_flip(0.1) q[0]\\ncnot q[0], q[1];\\n#pragma braket noise bit_flip(0.1) q[0]\\n#pragma braket noise bit_flip(0.1) q[1]\\nb[0] = measure q[0];\\nb[1] = measure q[1];', inputs={}), dwaveMetadata=None, ionqMetadata=None, rigettiMetadata=None, oqcMetadata=None, xanaduMetadata=None, queraMetadata=None, simulatorMetadata=None), result_types=[], values=[], measurements=array([[1, 1],\n",
      "       [1, 1],\n",
      "       [0, 0],\n",
      "       ...,\n",
      "       [0, 0],\n",
      "       [1, 1],\n",
      "       [0, 1]]), measured_qubits=[0, 1], measurement_counts=Counter({'00': 424, '11': 398, '01': 96, '10': 82}), measurement_probabilities={'11': 0.398, '00': 0.424, '01': 0.096, '10': 0.082}, measurements_copied_from_device=True, measurement_counts_copied_from_device=False, measurement_probabilities_copied_from_device=False, _result_types_indices={})\n"
     ]
    }
   ],
   "source": [
    "# build a simple circuit\n",
    "circ = Circuit().h(0).cnot(0,1)\n",
    "\n",
    "# define a noise channel\n",
    "noise = noises.BitFlip(probability=0.1)\n",
    "\n",
    "# add noise to every gate in the circuit\n",
    "circ.apply_gate_noise(noise)\n",
    "\n",
    "#noise add\n",
    "\n",
    "# select the local noise simulator\n",
    "device = LocalSimulator('braket_dm')\n",
    "\n",
    "# run the circuit on the local simulator\n",
    "task = device.run(circ, shots = 1000)\n",
    "\n",
    "# visualize the results\n",
    "result = task.result()\n",
    "measurement = result.measurement_counts\n",
    "print('measurement results:', measurement)\n",
    "\n",
    "print('result: ', result)"
   ]
  },
  {
   "cell_type": "markdown",
   "metadata": {},
   "source": [
    "Questions:\n",
    "1. what add measurement results mean?\n",
    "2. "
   ]
  },
  {
   "cell_type": "markdown",
   "metadata": {},
   "source": [
    "# Noise Suite\n"
   ]
  },
  {
   "cell_type": "code",
   "execution_count": 22,
   "metadata": {},
   "outputs": [],
   "source": [
    "def test_noise_suite(circ, noise_dict, measurements = {}):\n",
    "    \"\"\"runs given noise_dict into circ, return measurements\n",
    "\n",
    "    Args:\n",
    "        circ (_type_): _description_\n",
    "        noise_dict (dict): _description_\n",
    "        measurements (dict, optional): _description_. Defaults to {}.\n",
    "\n",
    "    Returns:\n",
    "        dict: measurements\n",
    "    \"\"\"\n",
    "    #state vector run\n",
    "    measurement = run_circuit(circ, 'braket_sv')\n",
    "    measurements['braket_sv']=measurement\n",
    "\n",
    "    for key in noise_dict.keys():\n",
    "        dynamic_noise_func = getattr(noises, key)\n",
    "        noise = dynamic_noise_func(noise_dict[key])\n",
    "\n",
    "        # add noise to every gate in the circuit\n",
    "        circ.apply_gate_noise(noise)\n",
    "        measurement = run_circuit(circ, 'braket_dm')\n",
    "        measurements[key]=measurement\n",
    "    \n",
    "    print(\"Measurements from noise suite\")\n",
    "    for item in measurements.items():\n",
    "        print(item)\n",
    "\n",
    "    return measurements\n",
    "\n",
    "def run_circuit(circ, simulator_type):\n",
    "    \"\"\"run circuit with given simulator type\n",
    "\n",
    "    Args:\n",
    "        circ (_type_): _description_\n",
    "        simulator_type (_type_): _description_\n",
    "\n",
    "    Returns:\n",
    "        dict: measurement\n",
    "    \"\"\"\n",
    "    # select the local noise simulator\n",
    "    device = LocalSimulator(simulator_type)\n",
    "\n",
    "    # run the circuit on the local simulator\n",
    "    task = device.run(circ, shots = 1000)\n",
    "\n",
    "    # visualize the results\n",
    "    result = task.result()\n",
    "    measurement = result.measurement_counts\n",
    "    return measurement\n",
    "\n",
    "def plot_measurements(measurements):\n",
    "    for key, counts in measurements.items():\n",
    "        # plot results: see effects of noise\n",
    "        plt.bar(counts.keys(), counts.values(), label= key)\n",
    "        plt.title(key)\n",
    "        plt.xlabel('bitstrings')\n",
    "        plt.ylabel('counts')\n",
    "        plt.tight_layout()\n",
    "        plt.legend()\n",
    "        plt.savefig(key+'.png', dpi=700)\n",
    "\n",
    "def benchmark_measurements(measurements):\n",
    "    \"\"\"find average difference between state vector counts and noise simulations\n",
    "\n",
    "    Args:\n",
    "        measurements (_type_): _description_\n",
    "\n",
    "    Returns:\n",
    "        _type_: _description_\n",
    "    \"\"\"\n",
    "    total_difference = 0\n",
    "    noise_count = len(measurements) - 1\n",
    "    sv_benchmark = measurements['braket_sv']\n",
    "    \n",
    "    for key, counts in measurements.items():\n",
    "        #print(\"in measurements for key: \", key, \"counts: \", counts)\n",
    "        if key != 'braket_sv':\n",
    "            for key_bit, value_count in sv_benchmark.items():\n",
    "                total_difference += value_count - counts[key_bit]\n",
    "                #print(\"total difference: \", total_difference)\n",
    "    average_difference = total_difference/noise_count\n",
    "    print(\"Average difference: \", average_difference)\n",
    "    return average_difference\n"
   ]
  },
  {
   "cell_type": "markdown",
   "metadata": {},
   "source": [
    "## Example usage"
   ]
  },
  {
   "cell_type": "code",
   "execution_count": 12,
   "metadata": {},
   "outputs": [
    {
     "name": "stdout",
     "output_type": "stream",
     "text": [
      "Measurements from noise suite\n",
      "('braket_sv', Counter({'00': 514, '11': 486}))\n",
      "('BitFlip', Counter({'00': 399, '11': 399, '10': 109, '01': 93}))\n",
      "('PhaseFlip', Counter({'11': 425, '00': 397, '10': 95, '01': 83}))\n",
      "('Depolarizing', Counter({'11': 372, '00': 349, '01': 141, '10': 138}))\n",
      "('AmplitudeDamping', Counter({'00': 433, '11': 286, '01': 142, '10': 139}))\n",
      "('PhaseDamping', Counter({'00': 382, '11': 286, '10': 174, '01': 158}))\n"
     ]
    }
   ],
   "source": [
    "# build a simple circuit\n",
    "circ = Circuit().h(0).cnot(0,1)\n",
    "\n",
    "noise_dict = {'BitFlip': 0.1, 'PhaseFlip': 0.1, 'Depolarizing': 0.1, 'AmplitudeDamping':0.1, 'PhaseDamping':0.1}\n",
    "#noise_dict = {'BitFlip': 0.1, 'PhaseFlip': 0.1, 'Depolarizing': 0.1, 'AmplitudeDamping':0.1, 'GeneralizedAmplitudeDamping': [0.1, 0.1], 'PhaseDamping':0.1, 'PauliChannel': [0.1, 0.1, 0.1]}\n",
    "\n",
    "#using noise suite\n",
    "measurements = test_noise_suite(circ, noise_dict)\n"
   ]
  },
  {
   "cell_type": "markdown",
   "metadata": {},
   "source": [
    "### Plots\n",
    "Multi-colours come from cross experiments"
   ]
  },
  {
   "cell_type": "code",
   "execution_count": 23,
   "metadata": {},
   "outputs": [
    {
     "data": {
      "image/png": "[encoded data removed]",
      "text/plain": [
       "<Figure size 640x480 with 1 Axes>"
      ]
     },
     "metadata": {},
     "output_type": "display_data"
    }
   ],
   "source": [
    "plot_measurements(measurements)"
   ]
  },
  {
   "cell_type": "markdown",
   "metadata": {},
   "source": [
    "### Average difference between state vector and noise simulation counts.\n",
    "Lower is better"
   ]
  },
  {
   "cell_type": "code",
   "execution_count": 19,
   "metadata": {},
   "outputs": [
    {
     "name": "stdout",
     "output_type": "stream",
     "text": [
      "Average difference:  254.4\n"
     ]
    }
   ],
   "source": [
    "avg_diff = benchmark_measurements(measurements)\n"
   ]
  },
  {
   "cell_type": "code",
   "execution_count": null,
   "metadata": {},
   "outputs": [],
   "source": []
  }
 ],
 "metadata": {
  "kernelspec": {
   "display_name": "iquhack",
   "language": "python",
   "name": "python3"
  },
  "language_info": {
   "codemirror_mode": {
    "name": "ipython",
    "version": 3
   },
   "file_extension": ".py",
   "mimetype": "text/x-python",
   "name": "python",
   "nbconvert_exporter": "python",
   "pygments_lexer": "ipython3",
   "version": "3.9.18"
  }
 },
 "nbformat": 4,
 "nbformat_minor": 2
}
