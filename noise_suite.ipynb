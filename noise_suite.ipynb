{
 "cells": [
  {
   "cell_type": "code",
   "execution_count": 1,
   "metadata": {},
   "outputs": [],
   "source": [
    "# Use Braket SDK Cost Tracking to estimate the cost to run this example\n",
    "from braket.tracking import Tracker\n",
    "t = Tracker().start()"
   ]
  },
  {
   "cell_type": "code",
   "execution_count": 2,
   "metadata": {},
   "outputs": [],
   "source": [
    "# general imports\n",
    "import numpy as np\n",
    "import matplotlib.pyplot as plt\n",
    "# magic word for producing visualizations in notebook\n",
    "%matplotlib inline\n",
    "import string\n",
    "import time\n",
    "import math\n",
    "\n",
    "from braket.aws import AwsDevice, AwsQuantumTask\n",
    "from braket.circuits import Circuit, gates, noises, observables, Gate\n",
    "from braket.devices import LocalSimulator\n",
    "from braket.parametric import FreeParameter\n",
    "import numpy as np\n",
    "from scipy.stats import unitary_group\n",
    "\n",
    "from braket.circuits.noise_model import (\n",
    "    GateCriteria,\n",
    "    NoiseModel,\n",
    "    ObservableCriteria,\n",
    ")\n",
    "from braket.circuits import Circuit, Observable, Gate\n",
    "from braket.circuits.noises import (\n",
    "    BitFlip,\n",
    "    Depolarizing,\n",
    "    TwoQubitDepolarizing,\n",
    ")"
   ]
  },
  {
   "cell_type": "markdown",
   "metadata": {},
   "source": [
    "Make Circuit"
   ]
  },
  {
   "cell_type": "code",
   "execution_count": 3,
   "metadata": {},
   "outputs": [
    {
     "name": "stdout",
     "output_type": "stream",
     "text": [
      "measurement results: Counter({'11': 411, '00': 406, '10': 95, '01': 88})\n",
      "result:  GateModelQuantumTaskResult(task_metadata=TaskMetadata(braketSchemaHeader=BraketSchemaHeader(name='braket.task_result.task_metadata', version='1'), id='f0a3b39a-a08a-4a4c-b582-9292baee22f0', shots=1000, deviceId='braket_dm', deviceParameters=None, createdAt=None, endedAt=None, status=None, failureReason=None), additional_metadata=AdditionalMetadata(action=Program(braketSchemaHeader=BraketSchemaHeader(name='braket.ir.openqasm.program', version='1'), source='OPENQASM 3.0;\\nbit[2] b;\\nqubit[2] q;\\nh q[0];\\n#pragma braket noise bit_flip(0.1) q[0]\\ncnot q[0], q[1];\\n#pragma braket noise bit_flip(0.1) q[0]\\n#pragma braket noise bit_flip(0.1) q[1]\\nb[0] = measure q[0];\\nb[1] = measure q[1];', inputs={}), dwaveMetadata=None, ionqMetadata=None, rigettiMetadata=None, oqcMetadata=None, xanaduMetadata=None, queraMetadata=None, simulatorMetadata=None), result_types=[], values=[], measurements=array([[1, 1],\n",
      "       [0, 0],\n",
      "       [0, 0],\n",
      "       ...,\n",
      "       [0, 0],\n",
      "       [1, 1],\n",
      "       [0, 1]]), measured_qubits=[0, 1], measurement_counts=Counter({'11': 411, '00': 406, '10': 95, '01': 88}), measurement_probabilities={'11': 0.411, '00': 0.406, '01': 0.088, '10': 0.095}, measurements_copied_from_device=True, measurement_counts_copied_from_device=False, measurement_probabilities_copied_from_device=False, _result_types_indices={})\n"
     ]
    }
   ],
   "source": [
    "# build a simple circuit\n",
    "circ = Circuit().h(0).cnot(0,1)\n",
    "\n",
    "# define a noise channel\n",
    "noise = noises.BitFlip(probability=0.1)\n",
    "\n",
    "# add noise to every gate in the circuit\n",
    "circ.apply_gate_noise(noise)\n",
    "\n",
    "#noise add\n",
    "\n",
    "# select the local noise simulator\n",
    "device = LocalSimulator('braket_dm')\n",
    "\n",
    "# run the circuit on the local simulator\n",
    "task = device.run(circ, shots = 1000)\n",
    "\n",
    "# visualize the results\n",
    "result = task.result()\n",
    "measurement = result.measurement_counts\n",
    "print('measurement results:', measurement)\n",
    "\n",
    "print('result: ', result)"
   ]
  },
  {
   "cell_type": "markdown",
   "metadata": {},
   "source": [
    "Questions:\n",
    "1. what add measurement results mean?\n",
    "2. "
   ]
  },
  {
   "cell_type": "markdown",
   "metadata": {},
   "source": [
    "# Noise Suite\n"
   ]
  },
  {
   "cell_type": "code",
   "execution_count": 4,
   "metadata": {},
   "outputs": [],
   "source": [
    "def noise_model():\n",
    "    \"\"\"given noise model by AWS\n",
    "\n",
    "    Returns:\n",
    "        _type_: _description_\n",
    "    \"\"\"\n",
    "    rng = np.random.default_rng()\n",
    "    m = NoiseModel()\n",
    "    \n",
    "    two_q_depo_mu = 1 - 0.9311\n",
    "    two_q_depo_sigma = 0.005\n",
    "    bf_mu = 1 - 0.99752\n",
    "    bf_sigma = 0.0015\n",
    "    one_q_depo_mu = 1 - 0.9981\n",
    "    one_q_depo_sigma = 0.00017\n",
    "    for qi in range(11):\n",
    "        z_bf_prob = bf_mu + bf_sigma * rng.standard_normal()\n",
    "        z_bf_prob = 0.0 if z_bf_prob < 0.0 else z_bf_prob\n",
    "        \n",
    "        bf_prob = bf_mu + bf_sigma * rng.standard_normal()\n",
    "        bf_prob = 0.0 if bf_prob < 0.0 else bf_prob\n",
    "        \n",
    "        one_q_depo_prob = one_q_depo_mu + one_q_depo_sigma * rng.standard_normal()\n",
    "        one_q_depo_prob = 0.0 if one_q_depo_prob < 0.0 else one_q_depo_prob\n",
    "        \n",
    "        m.add_noise(BitFlip(z_bf_prob), ObservableCriteria(observables=Observable.Z, qubits=qi))\n",
    "        #m.add_noise(BitFlip(bf_prob), ObservableCriteria(qubits=qi))\n",
    "        \n",
    "        m.add_noise(Depolarizing(one_q_depo_prob), GateCriteria(qubits=qi))\n",
    "        for qj in range(11):\n",
    "            if not qj == qi:\n",
    "                two_q_depo_prob = two_q_depo_mu + two_q_depo_sigma * rng.standard_normal()\n",
    "                two_q_depo_prob = 0.0 if two_q_depo_prob < 0.0 else two_q_depo_prob\n",
    "                \n",
    "                m.add_noise(TwoQubitDepolarizing(two_q_depo_prob), GateCriteria(gates=[Gate.CNot, Gate.Swap, Gate.CPhaseShift], qubits=[qi, qj]))\n",
    "    return m\n",
    "\n",
    "# # build my circuit here\n",
    "# c = Circuit()\n",
    "# # SOME GATES GET APPLIED\n",
    "\n",
    "# # examine the noiseless circuit \n",
    "# print(c)\n",
    "\n",
    "# # apply the noise model to the circuit \n",
    "# given_noise_model = noise_model()\n",
    "# c = given_noise_model.apply(c)\n",
    "\n",
    "# print(c)\n",
    "\n",
    "def test_noise_suite(circ, noise_dict, measurements = {}):\n",
    "    \"\"\"runs given noise_dict into circ, return measurements\n",
    "\n",
    "    Args:\n",
    "        circ (_type_): _description_\n",
    "        noise_dict (dict): _description_\n",
    "        measurements (dict, optional): _description_. Defaults to {}.\n",
    "\n",
    "    Returns:\n",
    "        dict: measurements\n",
    "    \"\"\"\n",
    "    original_circ = circ\n",
    "    #state vector run\n",
    "    measurement = run_circuit(circ, 'braket_sv')\n",
    "    measurements['braket_sv']=measurement\n",
    "\n",
    "    # apply the noise model to the circuit \n",
    "    given_noise_model = noise_model()\n",
    "    circ = given_noise_model.apply(circ)\n",
    "    print('Circuit after applying'+ 'given_noise_model')\n",
    "    print(circ)\n",
    "    measurement = run_circuit(circ, 'braket_dm')\n",
    "    measurements['given_noise_model']=measurement\n",
    "    #rebase circ\n",
    "    circ = original_circ\n",
    "\n",
    "    for key in noise_dict.keys():\n",
    "        dynamic_noise_func = getattr(noises, key)\n",
    "        noise = dynamic_noise_func(noise_dict[key])\n",
    "\n",
    "        # add noise to every gate in the circuit\n",
    "        circ.apply_gate_noise(noise)\n",
    "        print('Circuit after applying'+ key)\n",
    "        print(circ)\n",
    "        measurement = run_circuit(circ, 'braket_dm')\n",
    "        measurements[key]=measurement\n",
    "        #rebase circ\n",
    "        circ = original_circ\n",
    "\n",
    "    print(\"Measurements from noise suite\")\n",
    "    for item in measurements.items():\n",
    "        print(item)\n",
    "\n",
    "    return measurements\n",
    "\n",
    "def run_circuit(circ, simulator_type):\n",
    "    \"\"\"run circuit with given simulator type\n",
    "\n",
    "    Args:\n",
    "        circ (_type_): _description_\n",
    "        simulator_type (_type_): _description_\n",
    "\n",
    "    Returns:\n",
    "        dict: measurement\n",
    "    \"\"\"\n",
    "    # select the local noise simulator\n",
    "    device = LocalSimulator(simulator_type)\n",
    "\n",
    "    # run the circuit on the local simulator\n",
    "    task = device.run(circ, shots = 1000)\n",
    "\n",
    "    # visualize the results\n",
    "    result = task.result()\n",
    "    measurement = result.measurement_counts\n",
    "    return measurement\n",
    "\n",
    "def plot_measurements(measurements):\n",
    "    for key, counts in measurements.items():\n",
    "        # plot results: see effects of noise\n",
    "        plt.bar(counts.keys(), counts.values(), label= key)\n",
    "        plt.title(\"Base Graph on Noise Type: \" + key)\n",
    "        plt.xlabel('bitstrings')\n",
    "        plt.ylabel('counts')\n",
    "        plt.tight_layout()\n",
    "        plt.legend()\n",
    "        plt.savefig(key+'.png', dpi=700)\n",
    "\n",
    "def benchmark_measurements(measurements):\n",
    "    \"\"\"find average difference between state vector counts and noise simulations\n",
    "\n",
    "    Args:\n",
    "        measurements (_type_): _description_\n",
    "\n",
    "    Returns:\n",
    "        _type_: _description_\n",
    "    \"\"\"\n",
    "    total_difference = 0\n",
    "    noise_count = len(measurements) - 1\n",
    "    sv_benchmark = measurements['braket_sv']\n",
    "    \n",
    "    for key, counts in measurements.items():\n",
    "        #print(\"in measurements for key: \", key, \"counts: \", counts)\n",
    "        if key != 'braket_sv':\n",
    "            for key_bit, value_count in sv_benchmark.items():\n",
    "                total_difference += value_count - counts[key_bit]\n",
    "                #print(\"total difference: \", total_difference)\n",
    "    average_difference = total_difference/noise_count\n",
    "    print(\"Average difference: \", average_difference)\n",
    "    return average_difference\n"
   ]
  },
  {
   "cell_type": "markdown",
   "metadata": {},
   "source": [
    "## Example usage"
   ]
  },
  {
   "cell_type": "code",
   "execution_count": 5,
   "metadata": {},
   "outputs": [
    {
     "name": "stdout",
     "output_type": "stream",
     "text": [
      "Circuit Noiseless\n",
      "T  : |0|1|\n",
      "          \n",
      "q0 : -H-C-\n",
      "        | \n",
      "q1 : ---X-\n",
      "\n",
      "T  : |0|1|\n",
      "Circuit after applyinggiven_noise_model\n",
      "T  : |      0       |      1      |\n",
      "                                   \n",
      "q0 : -H-DEPO(0.0018)-C-DEPO(0.073)-\n",
      "                     | |           \n",
      "q1 : ----------------X-DEPO(0.073)-\n",
      "\n",
      "T  : |      0       |      1      |\n",
      "Circuit after applyingBitFlip\n",
      "T  : |    0    |    1    |\n",
      "                          \n",
      "q0 : -H-BF(0.1)-C-BF(0.1)-\n",
      "                |         \n",
      "q1 : -----------X-BF(0.1)-\n",
      "\n",
      "T  : |    0    |    1    |\n",
      "Circuit after applyingPhaseFlip\n",
      "T  : |        0        |        1        |\n",
      "                                          \n",
      "q0 : -H-PF(0.1)-BF(0.1)-C-PF(0.1)-BF(0.1)-\n",
      "                        |                 \n",
      "q1 : -------------------X-PF(0.1)-BF(0.1)-\n",
      "\n",
      "T  : |        0        |        1        |\n",
      "Circuit after applyingDepolarizing\n",
      "T  : |             0             |             1             |\n",
      "                                                              \n",
      "q0 : -H-DEPO(0.1)-PF(0.1)-BF(0.1)-C-DEPO(0.1)-PF(0.1)-BF(0.1)-\n",
      "                                  |                           \n",
      "q1 : -----------------------------X-DEPO(0.1)-PF(0.1)-BF(0.1)-\n",
      "\n",
      "T  : |             0             |             1             |\n",
      "Circuit after applyingAmplitudeDamping\n",
      "T  : |                 0                 |                 1                 |\n",
      "                                                                              \n",
      "q0 : -H-AD(0.1)-DEPO(0.1)-PF(0.1)-BF(0.1)-C-AD(0.1)-DEPO(0.1)-PF(0.1)-BF(0.1)-\n",
      "                                          |                                   \n",
      "q1 : -------------------------------------X-AD(0.1)-DEPO(0.1)-PF(0.1)-BF(0.1)-\n",
      "\n",
      "T  : |                 0                 |                 1                 |\n",
      "Circuit after applyingPhaseDamping\n",
      "T  : |                     0                     |                     1                     |\n",
      "                                                                                              \n",
      "q0 : -H-PD(0.1)-AD(0.1)-DEPO(0.1)-PF(0.1)-BF(0.1)-C-PD(0.1)-AD(0.1)-DEPO(0.1)-PF(0.1)-BF(0.1)-\n",
      "                                                  |                                           \n",
      "q1 : ---------------------------------------------X-PD(0.1)-AD(0.1)-DEPO(0.1)-PF(0.1)-BF(0.1)-\n",
      "\n",
      "T  : |                     0                     |                     1                     |\n",
      "Measurements from noise suite\n",
      "('braket_sv', Counter({'00': 504, '11': 496}))\n",
      "('given_noise_model', Counter({'11': 489, '00': 470, '01': 23, '10': 18}))\n",
      "('BitFlip', Counter({'11': 413, '00': 392, '01': 104, '10': 91}))\n",
      "('PhaseFlip', Counter({'11': 429, '00': 402, '01': 88, '10': 81}))\n",
      "('Depolarizing', Counter({'00': 406, '11': 345, '01': 130, '10': 119}))\n",
      "('AmplitudeDamping', Counter({'00': 439, '11': 285, '01': 152, '10': 124}))\n",
      "('PhaseDamping', Counter({'00': 403, '11': 313, '01': 145, '10': 139}))\n"
     ]
    }
   ],
   "source": [
    "# build a simple circuit\n",
    "#circ = Circuit().h(0).h(1).cnot(0,1).cnot(1,2).cnot(2,3)\n",
    "circ = Circuit().h(0).cnot(0,1)\n",
    "\n",
    "print('Circuit Noiseless')\n",
    "print(circ)\n",
    "\n",
    "noise_dict = {'BitFlip': 0.1, 'PhaseFlip': 0.1, 'Depolarizing': 0.1, 'AmplitudeDamping':0.1, 'PhaseDamping':0.1}\n",
    "#noise_dict = {'BitFlip': 0.1, 'PhaseFlip': 0.1, 'Depolarizing': 0.1, 'AmplitudeDamping':0.1, 'GeneralizedAmplitudeDamping': [0.1, 0.1], 'PhaseDamping':0.1, 'PauliChannel': [0.1, 0.1, 0.1]}\n",
    "\n",
    "#using noise suite\n",
    "measurements = test_noise_suite(circ, noise_dict)\n"
   ]
  },
  {
   "cell_type": "code",
   "execution_count": 6,
   "metadata": {},
   "outputs": [
    {
     "data": {
      "image/png": "[encoded data removed]",
      "text/plain": [
       "<Figure size 640x480 with 1 Axes>"
      ]
     },
     "metadata": {},
     "output_type": "display_data"
    }
   ],
   "source": [
    "plot_measurements(measurements)"
   ]
  },
  {
   "cell_type": "markdown",
   "metadata": {},
   "source": [
    "### Average difference between state vector and noise simulation counts.\n",
    "Lower is better"
   ]
  },
  {
   "cell_type": "code",
   "execution_count": 7,
   "metadata": {},
   "outputs": [
    {
     "name": "stdout",
     "output_type": "stream",
     "text": [
      "Average difference:  202.33333333333334\n"
     ]
    }
   ],
   "source": [
    "avg_diff = benchmark_measurements(measurements)\n"
   ]
  },
  {
   "cell_type": "code",
   "execution_count": null,
   "metadata": {},
   "outputs": [],
   "source": []
  }
 ],
 "metadata": {
  "kernelspec": {
   "display_name": "iquhack",
   "language": "python",
   "name": "python3"
  },
  "language_info": {
   "codemirror_mode": {
    "name": "ipython",
    "version": 3
   },
   "file_extension": ".py",
   "mimetype": "text/x-python",
   "name": "python",
   "nbconvert_exporter": "python",
   "pygments_lexer": "ipython3",
   "version": "3.9.18"
  }
 },
 "nbformat": 4,
 "nbformat_minor": 2
}
